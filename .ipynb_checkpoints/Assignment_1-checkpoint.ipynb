{
 "cells": [
  {
   "cell_type": "markdown",
   "id": "8c2b65f7-9b0c-4173-a8a0-46fe71ba31ad",
   "metadata": {},
   "source": [
    "**Personal Information**"
   ]
  },
  {
   "cell_type": "code",
   "execution_count": 1,
   "id": "dd2fcfa1-c7b8-4d31-aa45-827958ad7b5b",
   "metadata": {},
   "outputs": [
    {
     "name": "stdout",
     "output_type": "stream",
     "text": [
      "Hello, my name is Ayub, and I am 18 years old.\n"
     ]
    }
   ],
   "source": [
    "name = \"Ayub\"\n",
    "age = 18\n",
    "print(f\"Hello, my name is {name}, and I am {age} years old.\")"
   ]
  },
  {
   "cell_type": "markdown",
   "id": "bc515655-2145-4911-8681-84949b16a9f1",
   "metadata": {},
   "source": [
    "**Favourite Hobbies**"
   ]
  },
  {
   "cell_type": "code",
   "execution_count": 2,
   "id": "2da9a980-d989-4ea7-a0a5-ee3c8e647e93",
   "metadata": {},
   "outputs": [
    {
     "data": {
      "text/plain": [
       "['Drinking coffee', 'Playing guitar', 'Reading books', 'Learning Data Science']"
      ]
     },
     "execution_count": 2,
     "metadata": {},
     "output_type": "execute_result"
    }
   ],
   "source": [
    "fav_hobbies = [\"Drinking coffee\", \"Playing guitar\", \"Reading books\"]\n",
    "fav_hobbies.append(\"Learning Data Science\")\n",
    "fav_hobbies"
   ]
  },
  {
   "cell_type": "markdown",
   "id": "c2c80668-aca3-453f-b1c7-61d957b0884b",
   "metadata": {},
   "source": [
    "**Screen Dimensions**"
   ]
  },
  {
   "cell_type": "code",
   "execution_count": 3,
   "id": "63db3e0d-4b32-4ae2-82e3-0cd8d2a379bb",
   "metadata": {},
   "outputs": [
    {
     "ename": "TypeError",
     "evalue": "'tuple' object does not support item assignment",
     "output_type": "error",
     "traceback": [
      "\u001b[1;31m---------------------------------------------------------------------------\u001b[0m",
      "\u001b[1;31mTypeError\u001b[0m                                 Traceback (most recent call last)",
      "Cell \u001b[1;32mIn[3], line 2\u001b[0m\n\u001b[0;32m      1\u001b[0m scr_dim \u001b[38;5;241m=\u001b[39m (\u001b[38;5;241m50\u001b[39m, \u001b[38;5;241m50\u001b[39m)\n\u001b[1;32m----> 2\u001b[0m \u001b[43mscr_dim\u001b[49m\u001b[43m[\u001b[49m\u001b[38;5;241;43m0\u001b[39;49m\u001b[43m]\u001b[49m \u001b[38;5;241m=\u001b[39m \u001b[38;5;241m55\u001b[39m\n\u001b[0;32m      3\u001b[0m scr_dim\n",
      "\u001b[1;31mTypeError\u001b[0m: 'tuple' object does not support item assignment"
     ]
    }
   ],
   "source": [
    "scr_dim = (50, 50)\n",
    "scr_dim[0] = 55\n",
    "scr_dim"
   ]
  },
  {
   "cell_type": "markdown",
   "id": "8a94226e-d04e-4567-9b19-eb1e2cf541cd",
   "metadata": {},
   "source": [
    "**Pet Description**"
   ]
  },
  {
   "cell_type": "code",
   "execution_count": null,
   "id": "b6a5ee48-e632-4573-8745-2cd571b4aa32",
   "metadata": {},
   "outputs": [],
   "source": [
    "my_pet = {\"type\" : \"American Wirehair\", \"name\" : \"Hero\", \"age\" : 3}\n",
    "my_pet.update({\"color\" : \"Gold\"})\n",
    "print(f\"Name : {my_pet[\"name\"]}\")\n",
    "print(f\"Color : {my_pet[\"color\"]}\")"
   ]
  },
  {
   "cell_type": "markdown",
   "id": "b90d9c6e-8943-47b6-a9ff-90c035ebfbd4",
   "metadata": {},
   "source": [
    "**Adult Status**"
   ]
  },
  {
   "cell_type": "code",
   "execution_count": 4,
   "id": "8da90aa3-5994-433c-8e28-08512dc8e818",
   "metadata": {},
   "outputs": [
    {
     "name": "stdin",
     "output_type": "stream",
     "text": [
      "Hello, How old are you?? 9\n"
     ]
    },
    {
     "name": "stdout",
     "output_type": "stream",
     "text": [
      "You are not an adult.\n"
     ]
    }
   ],
   "source": [
    "is_adult = int(input(\"Hello, How old are you??\"))\n",
    "\n",
    "if is_adult >= 18:\n",
    "    print(\"You are an adult.\")\n",
    "else:\n",
    "    print(\"You are not an adult.\")"
   ]
  },
  {
   "cell_type": "code",
   "execution_count": null,
   "id": "b063b714-0788-44f1-a67c-7a6d7f2d1bbf",
   "metadata": {},
   "outputs": [],
   "source": []
  },
  {
   "cell_type": "code",
   "execution_count": null,
   "id": "96a97723-547d-47d2-917d-2b6b5ab93a64",
   "metadata": {},
   "outputs": [],
   "source": []
  }
 ],
 "metadata": {
  "kernelspec": {
   "display_name": "Python 3 (ipykernel)",
   "language": "python",
   "name": "python3"
  },
  "language_info": {
   "codemirror_mode": {
    "name": "ipython",
    "version": 3
   },
   "file_extension": ".py",
   "mimetype": "text/x-python",
   "name": "python",
   "nbconvert_exporter": "python",
   "pygments_lexer": "ipython3",
   "version": "3.12.2"
  }
 },
 "nbformat": 4,
 "nbformat_minor": 5
}
